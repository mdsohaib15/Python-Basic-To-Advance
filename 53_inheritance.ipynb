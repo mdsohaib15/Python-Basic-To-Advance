{
 "cells": [
  {
   "cell_type": "code",
   "execution_count": 5,
   "metadata": {},
   "outputs": [
    {
     "name": "stdout",
     "output_type": "stream",
     "text": [
      "Hi! I am a student \n",
      "Claire Redfield\n"
     ]
    }
   ],
   "source": [
    "class Person:\n",
    "  def __init__(self,fname,lname):\n",
    "    self.first_name = fname\n",
    "    self.last_name = lname\n",
    "  def print_name(self):\n",
    "    print(self.first_name,self.last_name)\n",
    "class Student(Person):\n",
    "  print(\"Hi! I am a student \")\n",
    "\n",
    "student1=Student(\"Claire\",\"Redfield\")\n",
    "student1.print_name()\n",
    "\n"
   ]
  }
 ],
 "metadata": {
  "kernelspec": {
   "display_name": "Python 3",
   "language": "python",
   "name": "python3"
  },
  "language_info": {
   "codemirror_mode": {
    "name": "ipython",
    "version": 3
   },
   "file_extension": ".py",
   "mimetype": "text/x-python",
   "name": "python",
   "nbconvert_exporter": "python",
   "pygments_lexer": "ipython3",
   "version": "3.11.2"
  }
 },
 "nbformat": 4,
 "nbformat_minor": 2
}
