{
 "cells": [
  {
   "cell_type": "code",
   "execution_count": 6,
   "metadata": {},
   "outputs": [
    {
     "name": "stdout",
     "output_type": "stream",
     "text": [
      "City: Karachi\n",
      "Punjabi is most Speaking Language \n",
      "City: Mumbai\n",
      "Hindi is most Speaking Language\n",
      "City: Tokyo\n",
      "Japanese is most Speaking Language\n",
      "City: Karachi\n",
      "Punjabi is most Speaking Language \n",
      "City: Mumbai\n",
      "Hindi is most Speaking Language\n",
      "City: Tokyo\n",
      "Japanese is most Speaking Language\n"
     ]
    }
   ],
   "source": [
    "''' -------Class Polymorphism -----------\n",
    "The word \"polymorphism\" means \"many forms\", and in programming it refers to methods/functions/operators with the same name that can be executed on many objects or classes.\n",
    "'''\n",
    "class Pakistan:\n",
    "          def __init__(self,city_name):\n",
    "                    self.city_name = city_name\n",
    "\n",
    "          def Language(self):\n",
    "                    print(f\"City: {self.city_name}\")\n",
    "                    print(\"Punjabi is most Speaking Language \")\n",
    "class India:\n",
    "          def __init__(self,city_name):\n",
    "                    self.city_name = city_name\n",
    "\n",
    "          def Language(self):\n",
    "                    print(f\"City: {self.city_name}\")\n",
    "                    print(\"Hindi is most Speaking Language\")\n",
    "class Japan:\n",
    "          def __init__(self,city_name):\n",
    "                    self.city_name = city_name\n",
    "\n",
    "          def Language(self):\n",
    "                    print(f\"City: {self.city_name}\")\n",
    "                    print(\"Japanese is most Speaking Language\")\n",
    "\n",
    "c1 = Pakistan(\"Karachi\")\n",
    "c2 = India(\"Mumbai\")\n",
    "c3 = Japan(\"Tokyo\")\n",
    "# without loop\n",
    "c1.Language()\n",
    "c2.Language()\n",
    "c3.Language()\n",
    "# with loop\n",
    "for x in (c1,c2,c3):\n",
    "          x.Language()"
   ]
  },
  {
   "cell_type": "code",
   "execution_count": 10,
   "metadata": {},
   "outputs": [
    {
     "name": "stdout",
     "output_type": "stream",
     "text": [
      "Move!\n",
      "Sail!\n",
      "Fly!\n"
     ]
    }
   ],
   "source": [
    "#--------Inheritance Class Polymorphism-------------\n",
    "class Vehicle:\n",
    "  def __init__(self, brand, model):\n",
    "    self.brand = brand\n",
    "    self.model = model\n",
    "\n",
    "  def move(self):\n",
    "    print(\"Move!\")\n",
    "\n",
    "class Car(Vehicle):\n",
    "  pass\n",
    "\n",
    "class Boat(Vehicle):\n",
    "  def move(self):\n",
    "    print(\"Sail!\")\n",
    "\n",
    "class Plane(Vehicle):\n",
    "  def move(self):\n",
    "    print(\"Fly!\")\n",
    "\n",
    "car1 = Car(\"Ford\", \"Mustang\") #Create a Car object\n",
    "boat1 = Boat(\"Ibiza\", \"Touring 20\") #Create a Boat object\n",
    "plane1 = Plane(\"Boeing\", \"747\") #Create a Plane object\n",
    "\n",
    "for x in (car1, boat1, plane1):\n",
    "  x.move()"
   ]
  }
 ],
 "metadata": {
  "kernelspec": {
   "display_name": "Python 3",
   "language": "python",
   "name": "python3"
  },
  "language_info": {
   "codemirror_mode": {
    "name": "ipython",
    "version": 3
   },
   "file_extension": ".py",
   "mimetype": "text/x-python",
   "name": "python",
   "nbconvert_exporter": "python",
   "pygments_lexer": "ipython3",
   "version": "3.11.2"
  }
 },
 "nbformat": 4,
 "nbformat_minor": 2
}
