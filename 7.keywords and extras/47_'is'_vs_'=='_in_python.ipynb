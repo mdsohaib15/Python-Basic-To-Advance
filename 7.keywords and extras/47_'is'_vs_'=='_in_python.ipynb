{
 "cells": [
  {
   "cell_type": "code",
   "execution_count": 3,
   "metadata": {},
   "outputs": [
    {
     "name": "stdout",
     "output_type": "stream",
     "text": [
      "True\n",
      "True\n"
     ]
    }
   ],
   "source": [
    "# the \"is\" keyword compares the exact location of object in memory\n",
    "# the \"==\" ompares the values .Are the two object have same values\n",
    "#values which are immutable returns true in every case\n",
    "\n",
    "\n",
    "# 8 is constant and immutable. so ouput is True\n",
    "# so python give same memory location to both variables\n",
    "a = 8 \n",
    "b = 8\n",
    "\n",
    "print(a is b)\n",
    "print(a == b)"
   ]
  },
  {
   "cell_type": "code",
   "execution_count": 4,
   "metadata": {},
   "outputs": [
    {
     "name": "stdout",
     "output_type": "stream",
     "text": [
      "False\n",
      "True\n"
     ]
    }
   ],
   "source": [
    "a=[12,23,34]\n",
    "b=[12,23,34]\n",
    "\n",
    "# a and b are list.list is mutable so it can be change at any point so python give two different memory location to both of it.\n",
    "print(a is b)\n",
    "print(a == b)"
   ]
  },
  {
   "cell_type": "code",
   "execution_count": 7,
   "metadata": {},
   "outputs": [
    {
     "name": "stdout",
     "output_type": "stream",
     "text": [
      "False\n",
      "True\n"
     ]
    }
   ],
   "source": [
    "# ******when Tuples are eqaules******\n",
    "\n",
    "a = (2,5,7)\n",
    "b = (2,5,7)\n",
    "\n",
    "print(a is b)\n",
    "print(a == b)"
   ]
  },
  {
   "cell_type": "code",
   "execution_count": 8,
   "metadata": {},
   "outputs": [
    {
     "name": "stdout",
     "output_type": "stream",
     "text": [
      "False\n",
      "True\n"
     ]
    }
   ],
   "source": [
    "a = (2,5,7)\n",
    "b = (2,5,7)\n",
    "\n",
    "print(a is b)\n",
    "print(a == b)"
   ]
  }
 ],
 "metadata": {
  "kernelspec": {
   "display_name": "Python 3",
   "language": "python",
   "name": "python3"
  },
  "language_info": {
   "codemirror_mode": {
    "name": "ipython",
    "version": 3
   },
   "file_extension": ".py",
   "mimetype": "text/x-python",
   "name": "python",
   "nbconvert_exporter": "python",
   "pygments_lexer": "ipython3",
   "version": "3.11.2"
  }
 },
 "nbformat": 4,
 "nbformat_minor": 2
}
