{
 "cells": [
  {
   "cell_type": "markdown",
   "metadata": {},
   "source": [
    "Enumerate: \n",
    "\n",
    "The enumerate function is a built-in function that allows you to iterate through a sequence and keep track of the index of each element."
   ]
  },
  {
   "cell_type": "code",
   "execution_count": 6,
   "metadata": {},
   "outputs": [
    {
     "name": "stdout",
     "output_type": "stream",
     "text": [
      "21\n",
      "32\n",
      "32\n",
      "11\n",
      "99\n",
      "Awesome!!\n",
      "43\n",
      "87\n",
      "65\n"
     ]
    }
   ],
   "source": [
    "# without enumerate:\n",
    "marks = [21,32,32,11,99,43,87,65]\n",
    "index =0\n",
    "for mark in marks:\n",
    "          print(mark)\n",
    "          if index == 4:\n",
    "                    print('Awesome!!')\n",
    "          index+=1\n"
   ]
  },
  {
   "cell_type": "code",
   "execution_count": 8,
   "metadata": {},
   "outputs": [
    {
     "name": "stdout",
     "output_type": "stream",
     "text": [
      "21\n",
      "32\n",
      "32\n",
      "11\n",
      "99\n",
      "Awesome!!\n",
      "43\n",
      "87\n",
      "65\n"
     ]
    }
   ],
   "source": [
    "# with enumerate:\n",
    "marks = [21,32,32,11,99,43,87,65]\n",
    "\n",
    "for index,mark in enumerate(marks):\n",
    "          print(mark)\n",
    "          if index == 4:\n",
    "                    print('Awesome!!')\n",
    "          "
   ]
  },
  {
   "cell_type": "code",
   "execution_count": 11,
   "metadata": {},
   "outputs": [
    {
     "name": "stdout",
     "output_type": "stream",
     "text": [
      "1 mango\n",
      "2 banana\n",
      "3 apple\n"
     ]
    }
   ],
   "source": [
    "# example\n",
    "fruits = ['mango','banana','apple']\n",
    "for index,fruit in enumerate(fruits,start=1):\n",
    "          print(index,fruit)"
   ]
  },
  {
   "cell_type": "code",
   "execution_count": null,
   "metadata": {},
   "outputs": [],
   "source": []
  }
 ],
 "metadata": {
  "kernelspec": {
   "display_name": "Python 3",
   "language": "python",
   "name": "python3"
  },
  "language_info": {
   "codemirror_mode": {
    "name": "ipython",
    "version": 3
   },
   "file_extension": ".py",
   "mimetype": "text/x-python",
   "name": "python",
   "nbconvert_exporter": "python",
   "pygments_lexer": "ipython3",
   "version": "3.11.2"
  }
 },
 "nbformat": 4,
 "nbformat_minor": 2
}
