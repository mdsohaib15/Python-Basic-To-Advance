{
 "cells": [
  {
   "cell_type": "code",
   "execution_count": 8,
   "metadata": {},
   "outputs": [
    {
     "name": "stdout",
     "output_type": "stream",
     "text": [
      "jill\n",
      "25000\n",
      "claire\n",
      "20000\n"
     ]
    }
   ],
   "source": [
    "class Employee:\n",
    "          def __init__(self,name,salary):\n",
    "                    self.name = name \n",
    "                    self.salary = salary\n",
    "          \n",
    "          @classmethod\n",
    "          def fromStr(cls, String):\n",
    "                    return cls(String.split(\"-\")[0],int(String.split(\"-\")[1]))\n",
    "e1 = Employee(\"jill\",25000)\n",
    "print(e1.name)\n",
    "print(e1.salary)\n",
    "\n",
    "# fromStr function will return an object that will be allocated in String\n",
    "String = \"claire-20000\"\n",
    "e2 = Employee.fromStr(String)\n",
    "print(e2.name)\n",
    "print(e2.salary)"
   ]
  }
 ],
 "metadata": {
  "kernelspec": {
   "display_name": "Python 3",
   "language": "python",
   "name": "python3"
  },
  "language_info": {
   "codemirror_mode": {
    "name": "ipython",
    "version": 3
   },
   "file_extension": ".py",
   "mimetype": "text/x-python",
   "name": "python",
   "nbconvert_exporter": "python",
   "pygments_lexer": "ipython3",
   "version": "3.11.2"
  }
 },
 "nbformat": 4,
 "nbformat_minor": 2
}
