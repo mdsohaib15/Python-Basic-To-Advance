{
 "cells": [
  {
   "cell_type": "code",
   "execution_count": 10,
   "metadata": {},
   "outputs": [
    {
     "name": "stdout",
     "output_type": "stream",
     "text": [
      "sohaib\n",
      "6\n"
     ]
    }
   ],
   "source": [
    "class Employee:\n",
    "          def __init__(self,name):\n",
    "                    self.name = name \n",
    "          def __len__(self):\n",
    "                    i = 0\n",
    "                    for c in self.name:\n",
    "                              i = i + 1\n",
    "                    return i\n",
    "\n",
    "          # def __str__(self):\n",
    "          #           return f\"the name of the employee is {self.name}\"\n",
    "e = Employee(\"sohaib\")\n",
    "print(e.name)\n",
    "print(len(e))\n",
    "print(e) # print<__main__.Employee object at 0x000001628D21D890>\n",
    "\n"
   ]
  },
  {
   "cell_type": "code",
   "execution_count": null,
   "metadata": {},
   "outputs": [],
   "source": []
  }
 ],
 "metadata": {
  "kernelspec": {
   "display_name": "Python 3",
   "language": "python",
   "name": "python3"
  },
  "language_info": {
   "codemirror_mode": {
    "name": "ipython",
    "version": 3
   },
   "file_extension": ".py",
   "mimetype": "text/x-python",
   "name": "python",
   "nbconvert_exporter": "python",
   "pygments_lexer": "ipython3",
   "version": "3.11.2"
  }
 },
 "nbformat": 4,
 "nbformat_minor": 2
}
