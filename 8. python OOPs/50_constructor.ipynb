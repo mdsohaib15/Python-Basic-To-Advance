{
 "cells": [
  {
   "cell_type": "code",
   "execution_count": 2,
   "metadata": {},
   "outputs": [
    {
     "name": "stdout",
     "output_type": "stream",
     "text": [
      "Hey i am a person\n",
      "Sohaib is a Python developer\n",
      "Hey i am a person\n",
      "Hammad is a Flutter developer\n"
     ]
    }
   ],
   "source": [
    "## CONSTRUCTOR\n",
    "class Details:\n",
    "          def __init__(self,name,occupation):\n",
    "                    print(\"Hey i am a person\")\n",
    "                    self.name = name \n",
    "                    self.occupation = occupation\n",
    "          def info(self):\n",
    "                    print(f\"{self.name} is a {self.occupation}\")\n",
    "\n",
    "a = Details(\"Sohaib\",\"Python developer\")\n",
    "a.info()\n",
    "b = Details(\"Hammad\",\"Flutter developer\")\n",
    "b.info()"
   ]
  }
 ],
 "metadata": {
  "kernelspec": {
   "display_name": "Python 3",
   "language": "python",
   "name": "python3"
  },
  "language_info": {
   "codemirror_mode": {
    "name": "ipython",
    "version": 3
   },
   "file_extension": ".py",
   "mimetype": "text/x-python",
   "name": "python",
   "nbconvert_exporter": "python",
   "pygments_lexer": "ipython3",
   "version": "3.11.2"
  }
 },
 "nbformat": 4,
 "nbformat_minor": 2
}
