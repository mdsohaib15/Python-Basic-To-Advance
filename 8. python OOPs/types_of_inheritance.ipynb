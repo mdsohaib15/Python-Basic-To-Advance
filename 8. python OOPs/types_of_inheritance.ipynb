{
 "cells": [
  {
   "cell_type": "code",
   "execution_count": 36,
   "metadata": {},
   "outputs": [
    {
     "name": "stdout",
     "output_type": "stream",
     "text": [
      "This function is in parent class \n",
      "This function is in child class\n",
      "This function is in parent class \n",
      "This function is in child class\n"
     ]
    }
   ],
   "source": [
    "# Single Inheritance: \n",
    "'''Single inheritance enables a derived class to inherit properties from a single parent class, thus enabling code reusability and the addition of new features to existing code.'''\n",
    "\n",
    "# Base class:\n",
    "class Parent:\n",
    "          def func1(self):\n",
    "                    print(\"This function is in parent class \")\n",
    "# Derived class:        \n",
    "class Child(Parent):\n",
    "          def func2(self):\n",
    "                    print(\"This function is in child class\")\n",
    "\n",
    "obj1 = Parent()\n",
    "obj1.func1() \n",
    "obj2 = Child()\n",
    "obj2.func2()\n",
    "\n",
    "object = Child()\n",
    "object.func1()\n",
    "object.func2()\n",
    "\n",
    "# object1 = Parent()\n",
    "# object1.func2() -->AttributeError"
   ]
  },
  {
   "cell_type": "code",
   "execution_count": 50,
   "metadata": {},
   "outputs": [
    {
     "name": "stdout",
     "output_type": "stream",
     "text": [
      "Mother name: huma\n",
      "Father name: sohail\n"
     ]
    }
   ],
   "source": [
    "# Multiple Inheritance: \n",
    "'''When a class can be derived from more than one base class this type of inheritance is called multiple inheritances. In multiple inheritances, all the features of the base classes are inherited into the derived class. '''\n",
    "# Base class 1:\n",
    "class Mother:\n",
    "    def __init__(self, mother_name):\n",
    "        self.mother_name = mother_name\n",
    "\n",
    "# Base class 2:\n",
    "class Father:\n",
    "    def __init__(self, father_name):\n",
    "        self.father_name = father_name\n",
    "\n",
    "# Derived class:\n",
    "class Child(Mother, Father):\n",
    "    def __init__(self, mother_name, father_name):\n",
    "        # Call the __init__ methods of both Mother and Father classes\n",
    "        Mother.__init__(self, mother_name)\n",
    "        Father.__init__(self, father_name)    \n",
    "    def parents(self):\n",
    "        print(\"Mother name:\", self.mother_name)\n",
    "        print(\"Father name:\", self.father_name)\n",
    "\n",
    "# Create an instance of the Child class\n",
    "s1 = Child(mother_name=\"huma\",father_name=\"sohail\")\n",
    "\n",
    "# Call the parents method\n",
    "s1.parents()\n"
   ]
  },
  {
   "cell_type": "code",
   "execution_count": 51,
   "metadata": {},
   "outputs": [],
   "source": [
    "# Multilevel Inheritance :\n",
    "'''In multilevel inheritance, features of the base class and the derived class are further inherited into the new derived class. This is similar to a relationship representing a child and a grandfather. '''\n"
   ]
  }
 ],
 "metadata": {
  "kernelspec": {
   "display_name": "Python 3",
   "language": "python",
   "name": "python3"
  },
  "language_info": {
   "codemirror_mode": {
    "name": "ipython",
    "version": 3
   },
   "file_extension": ".py",
   "mimetype": "text/x-python",
   "name": "python",
   "nbconvert_exporter": "python",
   "pygments_lexer": "ipython3",
   "version": "3.11.2"
  }
 },
 "nbformat": 4,
 "nbformat_minor": 2
}
