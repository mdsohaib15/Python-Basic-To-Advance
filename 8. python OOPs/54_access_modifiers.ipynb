{
 "cells": [
  {
   "cell_type": "code",
   "execution_count": 1,
   "metadata": {},
   "outputs": [
    {
     "name": "stdout",
     "output_type": "stream",
     "text": [
      "Name: Supra \n",
      "Model: MK4 \n",
      "ame: Yellow\n"
     ]
    }
   ],
   "source": [
    "# Public Access Modifier:\n",
    "class Car:\n",
    "          def __init__(self,name,model,color):\n",
    "                    self.name = name\n",
    "                    self.model = model\n",
    "                    self.color = color\n",
    "          def display(self):\n",
    "                    print(f\"Name: {self.name} \\nModel: {self.model} \\name: {self.color}\")\n",
    "c1 = Car(\"Supra\",\"MK4\",\"Yellow\")\n",
    "c1.display()\n"
   ]
  },
  {
   "cell_type": "code",
   "execution_count": 13,
   "metadata": {},
   "outputs": [
    {
     "name": "stdout",
     "output_type": "stream",
     "text": [
      "Name: Babar Azam Runs Scored: 15078\n",
      "Name: Babar Azam Jersey Number: 56 Total Runs: 15078\n"
     ]
    }
   ],
   "source": [
    "# Private Access Modifier:\n",
    "class Cricketer:\n",
    "    def __init__(self, name, jerseyNo, __totalRuns):\n",
    "        self.name = name \n",
    "        self.jerseyNo = jerseyNo \n",
    "        self.__totalRuns = __totalRuns\n",
    "        \n",
    "    def calculateRuns(self, runs):\n",
    "        self.__totalRuns += runs\n",
    "        print(f\"Name: {self.name} Runs Scored: {self.__totalRuns}\")\n",
    "        \n",
    "    def __printTotalRuns(self):\n",
    "        print(f\"Name: {self.name} Jersey Number: {self.jerseyNo} Total Runs: {self.__totalRuns}\")\n",
    "        \n",
    "    def printTotalRunsFromPublicMethod(self):\n",
    "        self.__printTotalRuns()\n",
    "\n",
    "# creating objects\n",
    "c1 = Cricketer(\"Babar Azam\", 56, 15000)\n",
    "c1.calculateRuns(78)\n",
    "# c1.__printTotalRuns()  # This line will raise an AttributeError as __printTotalRuns() is a private method\n",
    "c1.printTotalRunsFromPublicMethod()  # This will print the total runs\n"
   ]
  },
  {
   "cell_type": "code",
   "execution_count": 1,
   "metadata": {},
   "outputs": [
    {
     "name": "stdout",
     "output_type": "stream",
     "text": [
      "****************Game1****************\n",
      "Name of Games: Re4 \n",
      "Genre: Action Horror \n",
      "Total Play Time: 12 Hours\n",
      "\n",
      "****************Game2****************\n",
      "Name of Games: GTA5 \n",
      "Genre: Adventure \n",
      "Total Play Time: 20 Hours\n",
      "\n",
      "Total Difference between playtime of both games\n",
      "Difference playtime:  8 Hours\n"
     ]
    }
   ],
   "source": [
    "# Protected Access Modifier\n",
    "class PC_Games:\n",
    "          def __init__(self,name,types,_totalplayTime):\n",
    "                    self.name = name\n",
    "                    self.types = types\n",
    "                    self._totalplayTime = _totalplayTime\n",
    "                    \n",
    "          def gameInfo(self):\n",
    "                    print(f\"Name of Games: {self.name} \\nGenre: {self.types} \")\n",
    "          def totalPlayTime(self):\n",
    "                    print(f\"Total Play Time: {self._totalplayTime}\",\"Hours\")\n",
    "class PS5Games(PC_Games):\n",
    "          def __init__(self,name,types,_totalplayTime,_totalplayTime2):\n",
    "                    super().__init__(name,types,_totalplayTime)\n",
    "                    self._totalplayTime2 = _totalplayTime2\n",
    "          def totalPlayTime(self):\n",
    "                    print(f\"Total Play Time: {self._totalplayTime2}\",\"Hours\")\n",
    "          def getTotalPlayTime(self):\n",
    "                    print(f\"Difference playtime: \",self._totalplayTime2-self._totalplayTime,\"Hours\")\n",
    "print(\"****************Game1****************\")\n",
    "g1 = PC_Games(\"Re4\",\"Action Horror\",12)\n",
    "g1.gameInfo()\n",
    "g1.totalPlayTime()\n",
    "print(\"\\n****************Game2****************\")\n",
    "g2 = PS5Games(\"GTA5\",\"Adventure\",12,20)\n",
    "\n",
    "g2.gameInfo()\n",
    "g2.totalPlayTime()\n",
    "\n",
    "print(\"\\nTotal Difference between playtime of both games\")\n",
    "g2.getTotalPlayTime()"
   ]
  },
  {
   "cell_type": "code",
   "execution_count": null,
   "metadata": {},
   "outputs": [],
   "source": []
  }
 ],
 "metadata": {
  "kernelspec": {
   "display_name": "Python 3",
   "language": "python",
   "name": "python3"
  },
  "language_info": {
   "codemirror_mode": {
    "name": "ipython",
    "version": 3
   },
   "file_extension": ".py",
   "mimetype": "text/x-python",
   "name": "python",
   "nbconvert_exporter": "python",
   "pygments_lexer": "ipython3",
   "version": "3.11.2"
  }
 },
 "nbformat": 4,
 "nbformat_minor": 2
}
