{
 "cells": [
  {
   "cell_type": "code",
   "execution_count": 1,
   "metadata": {},
   "outputs": [],
   "source": [
    "\n",
    "# ---------Multilevel Inheritance---------------\n",
    "'''\n",
    " BaseClass -> DerivedClass1 -> DerivedClass2  -> DerivedClass3\n",
    "'''\n",
    "  \n",
    "class BaseClass:\n",
    "          pass\n",
    "class DerivedClass1(BaseClass):\n",
    "          pass \n",
    "class DerivedClass2(DerivedClass1):\n",
    "          pass"
   ]
  },
  {
   "cell_type": "code",
   "execution_count": 2,
   "metadata": {},
   "outputs": [
    {
     "name": "stdout",
     "output_type": "stream",
     "text": [
      "Name : Tommy\n",
      "Species: Dog\n",
      "Breed: GoldenRetiever\n",
      "Color: Black\n"
     ]
    }
   ],
   "source": [
    "# ---------Multilevel Inheritance---------------\n",
    "class Animal:\n",
    "          def __init__(self,name,species):\n",
    "                    self.name = name \n",
    "                    self.species = species\n",
    "          def showDetails(self):    # step3\n",
    "                    print(f\"Name : {self.name}\")\n",
    "                    print(f\"Species: {self.species}\")\n",
    "class Dog(Animal):\n",
    "          def __init__(self,name,breed):\n",
    "                    Animal.__init__(self,name,species =\"Dog\")\n",
    "                    self.breed = breed\n",
    "          def showDetails(self): # step2\n",
    "                    Animal.showDetails(self) \n",
    "                    print(f\"Breed: {self.breed}\")\n",
    "class GoldenRetiever(Dog):\n",
    "          def __init__(self,name,color):\n",
    "                    self.color = color\n",
    "                    Dog.__init__(self,name,breed = \"GoldenRetiever\")\n",
    "          def showDetails(self): # step1\n",
    "                    Dog.showDetails(self)\n",
    "                    print(f\"Color: {self.color}\")\n",
    "\n",
    "a1 = GoldenRetiever(\"Tommy\",\"Black\")\n",
    "a1.showDetails()"
   ]
  }
 ],
 "metadata": {
  "kernelspec": {
   "display_name": "Python 3",
   "language": "python",
   "name": "python3"
  },
  "language_info": {
   "codemirror_mode": {
    "name": "ipython",
    "version": 3
   },
   "file_extension": ".py",
   "mimetype": "text/x-python",
   "name": "python",
   "nbconvert_exporter": "python",
   "pygments_lexer": "ipython3",
   "version": "3.11.2"
  }
 },
 "nbformat": 4,
 "nbformat_minor": 2
}
