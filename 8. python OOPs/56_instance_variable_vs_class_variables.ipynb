{
 "cells": [
  {
   "cell_type": "code",
   "execution_count": 1,
   "metadata": {},
   "outputs": [
    {
     "name": "stdout",
     "output_type": "stream",
     "text": [
      "fish\n",
      "ocean\n",
      "5\n",
      "fish\n",
      "ocean\n",
      "5\n"
     ]
    }
   ],
   "source": [
    "# ----class variable\n",
    "class Shark:\n",
    "    animal_type = \"fish\"\n",
    "    location = \"ocean\"\n",
    "    followers = 5\n",
    "\n",
    "new_shark = Shark()\n",
    "print(new_shark.animal_type)\n",
    "print(new_shark.location)\n",
    "print(new_shark.followers)\n",
    "\n",
    "second_shark = Shark()\n",
    "print(second_shark.animal_type)\n",
    "print(second_shark.location)\n",
    "print(second_shark.followers)"
   ]
  },
  {
   "cell_type": "code",
   "execution_count": 13,
   "metadata": {},
   "outputs": [
    {
     "name": "stdout",
     "output_type": "stream",
     "text": [
      "Name : joe\n",
      "Age: 6\n"
     ]
    }
   ],
   "source": [
    "# ----- instance variable-----------\n",
    "class Shark:\n",
    "          def __init__(self,name,age):\n",
    "                    self.name = name \n",
    "                    self.age = age\n",
    "          def info(self):\n",
    "                    print(f\"Name : {self.name} \\nAge: {self.age}\")\n",
    "\n",
    "firstShark = Shark(\"joe\",6)\n",
    "firstShark.info()"
   ]
  },
  {
   "cell_type": "code",
   "execution_count": 34,
   "metadata": {},
   "outputs": [
    {
     "name": "stdout",
     "output_type": "stream",
     "text": [
      "name : sammy & age: 3\n",
      "followers : 2\n",
      "name : steveie & age: 8\n",
      "followers : 5\n",
      "sammy\n",
      "3\n",
      "fish\n",
      "ocean\n"
     ]
    }
   ],
   "source": [
    "class Shark:\n",
    "   # class variable\n",
    "          animal_type = \"fish\"\n",
    "          location = \"ocean\"\n",
    "    # Constructor method with instance variables name and age\n",
    "          def __init__(self,name,age):   \n",
    "                    self.name = name \n",
    "                    self.age = age\n",
    "          def print_info(self):\n",
    "                    print(f\"name : {self.name} & age: {self.age}\")\n",
    "\n",
    "          # Method with instance variable followers\n",
    "          def set_followers(self,followers):\n",
    "                    print(f\"followers : {followers}\")    \n",
    "s1 =Shark(\"sammy\",3)\n",
    "s1.print_info()\n",
    "s1.set_followers(2)\n",
    "\n",
    "s2 = Shark(\"steveie\",8)\n",
    "s2.print_info()\n",
    "s2.set_followers(5)\n",
    "\n",
    "# printing out instance variable name and age:\n",
    "print(s1.name)\n",
    "print(s1.age)\n",
    "\n",
    "# printing out class variable animal_type and location:\n",
    "print(s1.animal_type)\n",
    "print(s1.location)"
   ]
  },
  {
   "cell_type": "code",
   "execution_count": null,
   "metadata": {},
   "outputs": [],
   "source": [
    "class Employee:\n",
    "          companyName = \"apple\" #-> class variable\n",
    "          def __init__(self,name):\n",
    "                    self.name = name \n",
    "                    self.raise_amount = 1 #-> instance variable\n",
    "          def details(self):\n",
    "                    print(f\"the name of the employee is {self.name} in {self.companyName} and raise amount is {self.raise_amount}\")\n",
    "\n",
    "emp1 = Employee(\"sohaib\")\n",
    "emp1.details()\n",
    "emp2 = Employee(\"hammad\")\n",
    "emp2.raise_amount = 2\n",
    "emp2.details()"
   ]
  }
 ],
 "metadata": {
  "kernelspec": {
   "display_name": "Python 3",
   "language": "python",
   "name": "python3"
  },
  "language_info": {
   "codemirror_mode": {
    "name": "ipython",
    "version": 3
   },
   "file_extension": ".py",
   "mimetype": "text/x-python",
   "name": "python",
   "nbconvert_exporter": "python",
   "pygments_lexer": "ipython3",
   "version": "3.11.2"
  }
 },
 "nbformat": 4,
 "nbformat_minor": 2
}
