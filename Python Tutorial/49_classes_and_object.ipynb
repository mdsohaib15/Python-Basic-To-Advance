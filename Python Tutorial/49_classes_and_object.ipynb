{
 "cells": [
  {
   "cell_type": "code",
   "execution_count": 18,
   "metadata": {},
   "outputs": [
    {
     "name": "stdout",
     "output_type": "stream",
     "text": [
      "------------Object1---------------\n",
      "name :  Sohaib\n",
      "occupation:  Python programmer\n",
      "networth:  90000\n",
      "-------------Person Information:------------\n",
      "Sohaib is a Python programmer and his networth is 90000\n",
      "\n",
      "-------------Object2----------------\n",
      "-------------Person Information:------------\n",
      "Hammad is a Flutter Develepor and his networth is 80000\n"
     ]
    }
   ],
   "source": [
    "## CLASS ----- OBJECT\n",
    "class Person:      ##->blueprint\n",
    "          name = \"Sohaib\"     ##->properties\n",
    "          occupation = \"Python programmer\"        ##->properties\n",
    "          networth = 90000    ##->properties\n",
    "          def info(self):  \n",
    "                    print(\"-------------Person Information:------------\")                     ##--->methods\n",
    "                    print(f\"{self.name} is a {self.occupation} and his networth is {self.networth}\")\n",
    "          \n",
    "print(\"------------Object1---------------\")\n",
    "object1 = Person()   #-->object\n",
    "print(\"name : \",object1.name)\n",
    "print(\"occupation: \",object1.occupation)\n",
    "print(\"networth: \",object1.networth)\n",
    "object1.info()\n",
    "\n",
    "print(\"\\n-------------Object2----------------\")\n",
    "object2 = Person()\n",
    "object2.name = \"Hammad\"\n",
    "object2.occupation = \"Flutter Develepor\"\n",
    "object2.networth = 80000\n",
    "object2.info()\n",
    "\n",
    "\n"
   ]
  },
  {
   "cell_type": "code",
   "execution_count": 24,
   "metadata": {},
   "outputs": [
    {
     "name": "stdout",
     "output_type": "stream",
     "text": [
      "Object1 23 Warwick\n"
     ]
    }
   ],
   "source": [
    "# -----------Find Errors---------------------\n",
    "class Base:\n",
    "    def __init__ (self, name):\n",
    "        self.name= name\n",
    "    def getName(self):\n",
    "        return self.name\n",
    "class Child(Base):\n",
    "    def __init__(self, name, age):\n",
    "        Base.__init__(self, name)\n",
    "        self.age = age\n",
    "    def getAge(self):\n",
    "        return self.age\n",
    "\n",
    "class GrandChild(Child):\n",
    "    def __init__ (self, name, age, address):\n",
    "        Child.__init__ (self, name, age)\n",
    "        self.address = address\n",
    "    def getAddress(self):\n",
    "        return self.address\n",
    "\n",
    "g = GrandChild(\"Object1\", 23, \"Warwick\") \n",
    "print(g.getName(), g.getAge(), g.getAddress())\n",
    "\n",
    "# No Errors"
   ]
  }
 ],
 "metadata": {
  "kernelspec": {
   "display_name": "Python 3",
   "language": "python",
   "name": "python3"
  },
  "language_info": {
   "codemirror_mode": {
    "name": "ipython",
    "version": 3
   },
   "file_extension": ".py",
   "mimetype": "text/x-python",
   "name": "python",
   "nbconvert_exporter": "python",
   "pygments_lexer": "ipython3",
   "version": "3.11.2"
  }
 },
 "nbformat": 4,
 "nbformat_minor": 2
}
