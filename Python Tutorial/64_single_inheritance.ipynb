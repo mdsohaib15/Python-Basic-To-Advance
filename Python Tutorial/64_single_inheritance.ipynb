{
 "cells": [
  {
   "cell_type": "code",
   "execution_count": 3,
   "metadata": {},
   "outputs": [
    {
     "name": "stdout",
     "output_type": "stream",
     "text": [
      "Dog dogger\n",
      "bark\n",
      "cat birman\n",
      "sound made by animal\n"
     ]
    }
   ],
   "source": [
    "# ------------single inheritance------------\n",
    "class Animal:\n",
    "          def __init__(self,name,breed):\n",
    "                    self.name = name \n",
    "                    self.breed = breed\n",
    "                    print(self.name,self.breed)\n",
    "          def make_sound(self):\n",
    "                    print(\"sound made by animal\")\n",
    "\n",
    "class Dog(Animal):\n",
    "       def make_sound(self):\n",
    "                    print(\"bark\")\n",
    "\n",
    "d = Dog(\"Dog\",\"dogger\")\n",
    "d.make_sound()\n",
    "\n",
    "a = Animal(\"cat\",\"birman\")\n",
    "a.make_sound()"
   ]
  }
 ],
 "metadata": {
  "kernelspec": {
   "display_name": "Python 3",
   "language": "python",
   "name": "python3"
  },
  "language_info": {
   "codemirror_mode": {
    "name": "ipython",
    "version": 3
   },
   "file_extension": ".py",
   "mimetype": "text/x-python",
   "name": "python",
   "nbconvert_exporter": "python",
   "pygments_lexer": "ipython3",
   "version": "3.11.2"
  }
 },
 "nbformat": 4,
 "nbformat_minor": 2
}
