{
 "cells": [
  {
   "cell_type": "code",
   "execution_count": 16,
   "metadata": {},
   "outputs": [
    {
     "name": "stdout",
     "output_type": "stream",
     "text": [
      "virat is a  very good Middle order batsman\n",
      "Steyn is a very good Fast bowler\n",
      "watson is a  very good opening batsman\n",
      "watson is a very good death bowler\n",
      "[<class '__main__.AllRounder'>, <class '__main__.Batsman'>, <class '__main__.Bowler'>, <class 'object'>]\n"
     ]
    }
   ],
   "source": [
    "class Batsman:\n",
    "          def __init__(self,name,role):\n",
    "                    self.name  = name \n",
    "                    self.role = role\n",
    "          def info1(self):\n",
    "                    print(f\"{self.name} is a  very good {self.role} batsman\")\n",
    "\n",
    "class Bowler:\n",
    "          def __init__(self,name,role):\n",
    "                    self.name  =name \n",
    "                    self.role = role\n",
    "          def info2(self):\n",
    "                    print(f\"{self.name} is a very good {self.role} bowler\")\n",
    "\n",
    "class AllRounder(Batsman,Bowler):\n",
    "          def __init__(self,name,role):\n",
    "                self.name  = name \n",
    "                self.role = role    \n",
    "\n",
    "p1 = Batsman(\"virat\",\"Middle order\")\n",
    "p1.info1()\n",
    "\n",
    "p2 = Bowler(\"Steyn\",\"Fast\")\n",
    "p2.info2()\n",
    "\n",
    "p3 = AllRounder(\"watson\" , \"opening\")\n",
    "p3.info1()\n",
    "p3 = AllRounder(\"watson\" , \"death\")\n",
    "p3.info2()\n"
   ]
  },
  {
   "cell_type": "code",
   "execution_count": 22,
   "metadata": {},
   "outputs": [
    {
     "name": "stdout",
     "output_type": "stream",
     "text": [
      "virat is a  very good Middle order batsman\n",
      "Steyn is a very good Fast bowler\n",
      "watson is a  very good opening batsman\n",
      "watson is a  very good opening batsman\n",
      "[<class '__main__.AllRounder'>, <class '__main__.Batsman'>, <class '__main__.Bowler'>, <class 'object'>]\n"
     ]
    }
   ],
   "source": [
    "# Method resolution order in Python Inheritance\n",
    "class Batsman:\n",
    "          def __init__(self,name,role):\n",
    "                    self.name  = name \n",
    "                    self.role = role\n",
    "          def info(self):\n",
    "                    print(f\"{self.name} is a  very good {self.role} batsman\")\n",
    "\n",
    "class Bowler:\n",
    "          def __init__(self,name,role):\n",
    "                    self.name  =name \n",
    "                    self.role = role\n",
    "          def info(self):\n",
    "                    print(f\"{self.name} is a very good {self.role} bowler\")\n",
    "\n",
    "class AllRounder(Batsman,Bowler):\n",
    "          def __init__(self,name,role):\n",
    "                self.name  = name \n",
    "                self.role = role    \n",
    "\n",
    "p1 = Batsman(\"virat\",\"Middle order\")\n",
    "p1.info()\n",
    "\n",
    "p2 = Bowler(\"Steyn\",\"Fast\")\n",
    "p2.info()\n",
    "\n",
    "p3 = AllRounder(\"watson\" , \"opening\")\n",
    "p3.info()\n",
    "p3.info()\n",
    "\n",
    "print(AllRounder.mro()) #-> we can check orders if batsman is written first info() in batsman print else info() of bowler print if bowler is written first   "
   ]
  }
 ],
 "metadata": {
  "kernelspec": {
   "display_name": "Python 3",
   "language": "python",
   "name": "python3"
  },
  "language_info": {
   "codemirror_mode": {
    "name": "ipython",
    "version": 3
   },
   "file_extension": ".py",
   "mimetype": "text/x-python",
   "name": "python",
   "nbconvert_exporter": "python",
   "pygments_lexer": "ipython3",
   "version": "3.11.2"
  }
 },
 "nbformat": 4,
 "nbformat_minor": 2
}
