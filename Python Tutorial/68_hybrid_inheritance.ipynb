{
 "cells": [
  {
   "cell_type": "code",
   "execution_count": null,
   "metadata": {},
   "outputs": [],
   "source": [
    "# ---------Hybrid Inheritance---------------\n",
    "#muliple types of inheritance combine together is called hybrid inheritance\n",
    "'''                A\n",
    "    _______________|________________\n",
    "   |               |                |\n",
    "   B               C                D\n",
    "   /\\               \\               / \n",
    "b1    b2             \\             /\n",
    "                      -----E------\n",
    "'''\n",
    "class BaseClass:\n",
    "          pass\n",
    "class DerivedClass1(BaseClass):\n",
    "          pass\n",
    "class DerivedClass2(BaseClass):\n",
    "          pass\n",
    "class DerivedClass3(DerivedClass1,DerivedClass2):\n",
    "          pass"
   ]
  },
  {
   "cell_type": "code",
   "execution_count": 37,
   "metadata": {},
   "outputs": [
    {
     "name": "stdout",
     "output_type": "stream",
     "text": [
      "Game Type: Story\n",
      "Name: RE\n",
      "It is an Action Game\n",
      "Game Type: Story\n",
      "Name: RE\n",
      "It is an Adventural Game\n"
     ]
    }
   ],
   "source": [
    "class Game:\n",
    "          def __init__(self,name):\n",
    "                    self.name = name\n",
    "          def game1(self):\n",
    "                    print(f\"Name: {self.name}\")\n",
    "                    print(\"It is an Action Game\")\n",
    "          def game2(self):\n",
    "                    print(f\"Name: {self.name}\")\n",
    "                    print(\"It is an Adventural Game\")\n",
    "\n",
    "\n",
    "class Action(Game):\n",
    "          def __init__(self,name,type):\n",
    "                    Game.__init__(self,name)\n",
    "                    self.type = type\n",
    "          def info(self):\n",
    "                    print(f\"Game Type: {self.type}\")\n",
    "                    Game.game1(self)\n",
    "\n",
    "class Adventure(Game):\n",
    "          def __init__(self,name,type):\n",
    "                    Game.__init__(self,name)\n",
    "                    self.type = type\n",
    "          def info(self):\n",
    "                    print(f\"Game Type: {self.type}\")\n",
    "                    Game.game2(self)\n",
    "\n",
    "class Horror(Action,Adventure):\n",
    "          def __init__(self,name,type):\n",
    "                    self.type = type\n",
    "                    Action.__init__(self,name , type)\n",
    "                    Adventure.__init__(self,name , type)\n",
    "\n",
    "          def info(self):\n",
    "                    Action.info(self)\n",
    "                    Adventure.info(self)\n",
    "\n",
    "\n",
    "# g1 = Action(\"Pubg\",\"Battle Royal\")\n",
    "# g1.info()\n",
    "# g2 = Adventure(\"Sabnautica \",\"Survival\")\n",
    "# g2.info()\n",
    "g3 = Horror(\"RE\",\"Story\")\n",
    "g3.info()\n",
    "\n"
   ]
  }
 ],
 "metadata": {
  "kernelspec": {
   "display_name": "Python 3",
   "language": "python",
   "name": "python3"
  },
  "language_info": {
   "codemirror_mode": {
    "name": "ipython",
    "version": 3
   },
   "file_extension": ".py",
   "mimetype": "text/x-python",
   "name": "python",
   "nbconvert_exporter": "python",
   "pygments_lexer": "ipython3",
   "version": "3.11.2"
  }
 },
 "nbformat": 4,
 "nbformat_minor": 2
}
