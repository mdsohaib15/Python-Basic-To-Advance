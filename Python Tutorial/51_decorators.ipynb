{
 "cells": [
  {
   "cell_type": "code",
   "execution_count": 20,
   "metadata": {},
   "outputs": [
    {
     "name": "stdout",
     "output_type": "stream",
     "text": [
      "Good Morning\n",
      "Hello world\n",
      "Thanks for using this function\n"
     ]
    }
   ],
   "source": [
    "# decorators wo function hote h jo k dusre function ko change kar k return karte h\n",
    "def greet(fn):\n",
    "          def decorated_func():\n",
    "                    print(\"Good Morning\")\n",
    "                    fn()\n",
    "                    print(\"Thanks for using this function\")\n",
    "          return decorated_func\n",
    "@greet\n",
    "def hello():\n",
    "          print(\"Hello world\")\n",
    "\n",
    "# hello()\n",
    "\n",
    "greet(hello)()"
   ]
  },
  {
   "cell_type": "code",
   "execution_count": 21,
   "metadata": {},
   "outputs": [
    {
     "name": "stdout",
     "output_type": "stream",
     "text": [
      "Good Morning\n",
      "Hello world\n",
      "Thanks for using this function\n"
     ]
    }
   ],
   "source": [
    "# using without @syntax\n",
    "def greet(fn):\n",
    "          def decorated_func():\n",
    "                    print(\"Good Morning\")\n",
    "                    fn() # Call the original function\n",
    "                    print(\"Thanks for using this function\")\n",
    "          return decorated_func\n",
    "# @greet\n",
    "def hello():\n",
    "          print(\"Hello world\")\n",
    "\n",
    "greet(hello)()"
   ]
  },
  {
   "cell_type": "code",
   "execution_count": 28,
   "metadata": {},
   "outputs": [
    {
     "name": "stdout",
     "output_type": "stream",
     "text": [
      "I am going to divide 20 and 2\n",
      "10.0\n",
      "Finally done!\n"
     ]
    }
   ],
   "source": [
    "def smart_divide(fn):\n",
    "          def inner(a,b):\n",
    "                    print(f\"I am going to divide {a} and {b}\")\n",
    "                    fn(a,b) # Call the original function\n",
    "                    print(\"Finally done!\")\n",
    "          return inner\n",
    "\n",
    "@smart_divide\n",
    "def divide(a,b):\n",
    "          print(a/b)\n",
    "divide(20,2)"
   ]
  }
 ],
 "metadata": {
  "kernelspec": {
   "display_name": "Python 3",
   "language": "python",
   "name": "python3"
  },
  "language_info": {
   "codemirror_mode": {
    "name": "ipython",
    "version": 3
   },
   "file_extension": ".py",
   "mimetype": "text/x-python",
   "name": "python",
   "nbconvert_exporter": "python",
   "pygments_lexer": "ipython3",
   "version": "3.11.2"
  }
 },
 "nbformat": 4,
 "nbformat_minor": 2
}
