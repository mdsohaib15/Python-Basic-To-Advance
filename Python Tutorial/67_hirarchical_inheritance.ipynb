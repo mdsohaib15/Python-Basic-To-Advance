{
 "cells": [
  {
   "cell_type": "code",
   "execution_count": 1,
   "metadata": {},
   "outputs": [],
   "source": [
    "\n",
    "# --------Hirarchical Inheritance-------\n",
    "'''                A\n",
    "    _______________|________________\n",
    "   |               |                |\n",
    "   B               C                D\n",
    "   /\\              /\\               /\\ \n",
    "b1    b2          c1 c2            d1 d2\n",
    "   '''\n",
    "\n",
    "class A:\n",
    "          pass\n",
    "class B(A):\n",
    "          pass\n",
    "class C(A):\n",
    "          pass\n",
    "\n",
    "class b1(B):\n",
    "          pass\n",
    "class b2(B):\n",
    "          pass\n",
    "class c1(C):\n",
    "          pass\n",
    "class c2(C):\n",
    "          pass"
   ]
  },
  {
   "cell_type": "code",
   "execution_count": 28,
   "metadata": {},
   "outputs": [
    {
     "name": "stdout",
     "output_type": "stream",
     "text": [
      "Name: resident evil\n",
      "Game Type: Action\n",
      "Type: story\n"
     ]
    }
   ],
   "source": [
    "class Game:\n",
    "          def __init__(self,name,genre):\n",
    "                    self.name = name\n",
    "                    self.genre = genre\n",
    "          def gameName(self):\n",
    "                    print(f\"Name: {self.name}\")\n",
    "                    print(f\"Game Type: {self.genre}\")\n",
    "\n",
    "class Action(Game):\n",
    "          def __init__(self,name,type):\n",
    "                    Game.__init__(self,name,genre = \"Action\")\n",
    "                    self.type = type\n",
    "          def info(self):\n",
    "                    Game.gameName(self)\n",
    "                    print(f\"Game Type: {self.type}\")\n",
    "class Horror(Game):\n",
    "          pass\n",
    "class Survival(Game):\n",
    "          pass\n",
    "\n",
    "g1 = Action(\"Resident evil\",\"Story\")\n",
    "g1.info()"
   ]
  },
  {
   "cell_type": "code",
   "execution_count": null,
   "metadata": {},
   "outputs": [],
   "source": []
  }
 ],
 "metadata": {
  "kernelspec": {
   "display_name": "Python 3",
   "language": "python",
   "name": "python3"
  },
  "language_info": {
   "codemirror_mode": {
    "name": "ipython",
    "version": 3
   },
   "file_extension": ".py",
   "mimetype": "text/x-python",
   "name": "python",
   "nbconvert_exporter": "python",
   "pygments_lexer": "ipython3",
   "version": "3.11.2"
  }
 },
 "nbformat": 4,
 "nbformat_minor": 2
}
