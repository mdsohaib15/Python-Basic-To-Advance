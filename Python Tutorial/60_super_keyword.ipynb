{
 "cells": [
  {
   "cell_type": "code",
   "execution_count": 7,
   "metadata": {},
   "outputs": [
    {
     "name": "stdout",
     "output_type": "stream",
     "text": [
      "southee\n",
      "38\n",
      "williamson\n",
      "22\n",
      "true\n"
     ]
    }
   ],
   "source": [
    "class Cricketer:\n",
    "          def __init__(self,name,number):\n",
    "                    self.name = name \n",
    "                    self.number = number\n",
    "class Captaincy(Cricketer):\n",
    "          def __init__(self,name,number,captain): \n",
    "                    super().__init__(name,number)\n",
    "                    self.captain = captain\n",
    "\n",
    "c1 = Cricketer(\"southee\",38)\n",
    "print(c1.name)\n",
    "print(c1.number)\n",
    "\n",
    "c2 = Captaincy(\"williamson\",22, \"true\")\n",
    "print(c2.name)\n",
    "print(c2.number)\n",
    "print(c2.captain)"
   ]
  }
 ],
 "metadata": {
  "kernelspec": {
   "display_name": "Python 3",
   "language": "python",
   "name": "python3"
  },
  "language_info": {
   "codemirror_mode": {
    "name": "ipython",
    "version": 3
   },
   "file_extension": ".py",
   "mimetype": "text/x-python",
   "name": "python",
   "nbconvert_exporter": "python",
   "pygments_lexer": "ipython3",
   "version": "3.11.2"
  }
 },
 "nbformat": 4,
 "nbformat_minor": 2
}
