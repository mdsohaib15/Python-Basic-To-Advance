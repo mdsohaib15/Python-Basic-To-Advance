{
 "cells": [
  {
   "cell_type": "code",
   "execution_count": 20,
   "metadata": {},
   "outputs": [
    {
     "name": "stdout",
     "output_type": "stream",
     "text": [
      "addition: \n",
      "5\n",
      "9\n",
      "25\n",
      "57\n"
     ]
    }
   ],
   "source": [
    "# ---static method wo hote h jo na class se belong karte h na instance se belong karte h \n",
    "#  static method - they belongs to the class not the object of the class\n",
    "class Math:\n",
    "          def __init__(self,num):\n",
    "                    self.num = num\n",
    "                    print(\"addition: \")\n",
    "          def two_num_sum(self,n):\n",
    "                    self.num = self.num + n\n",
    "\n",
    "          @staticmethod\n",
    "          def add(a,b):\n",
    "                    return a+b\n",
    "sum = Math(5)\n",
    "print(sum.num)\n",
    "sum.two_num_sum(4)\n",
    "print(sum.num)\n",
    "print(sum.add(22,3) )\n",
    "print(Math.add( 2,55) )       "
   ]
  }
 ],
 "metadata": {
  "kernelspec": {
   "display_name": "Python 3",
   "language": "python",
   "name": "python3"
  },
  "language_info": {
   "codemirror_mode": {
    "name": "ipython",
    "version": 3
   },
   "file_extension": ".py",
   "mimetype": "text/x-python",
   "name": "python",
   "nbconvert_exporter": "python",
   "pygments_lexer": "ipython3",
   "version": "3.11.2"
  }
 },
 "nbformat": 4,
 "nbformat_minor": 2
}
