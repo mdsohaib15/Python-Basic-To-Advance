{
 "cells": [
  {
   "cell_type": "code",
   "execution_count": 7,
   "metadata": {},
   "outputs": [
    {
     "name": "stdout",
     "output_type": "stream",
     "text": [
      "8\n",
      "[8, 27, 64, 343, 64]\n"
     ]
    }
   ],
   "source": [
    "# without MAP\n",
    "#  # cube of number\n",
    "# def cube(x):\n",
    "#           return x*x*x\n",
    "# print(cube(2))\n",
    "\n",
    "# # cube of all numbers in a list\n",
    "# lists=[2,3,4,7,4]\n",
    "# cubes=[]\n",
    "# for i in lists:\n",
    "#           cubes.append(cube(i))\n",
    "# print(cubes)"
   ]
  },
  {
   "cell_type": "code",
   "execution_count": 18,
   "metadata": {},
   "outputs": [
    {
     "name": "stdout",
     "output_type": "stream",
     "text": [
      "[8, 27, 64, 343, 64]\n"
     ]
    }
   ],
   "source": [
    "# ******************* MAP**************************\n",
    "# map() function returns a map object(which is an iterator) of the results after applying the given function to each item of a given iterable (list, tuple etc.)\n",
    "def cube(x):\n",
    "          return x*x*x\n",
    "l=[2,3,4,7,4]\n",
    "my_list = list(map(cube,l))  # syntax map(function,iterable (iterable means such as list and tuples))\n",
    "print(my_list)"
   ]
  },
  {
   "cell_type": "code",
   "execution_count": 5,
   "metadata": {},
   "outputs": [
    {
     "name": "stdout",
     "output_type": "stream",
     "text": [
      "[3, 5, 8, 7, 4]\n"
     ]
    }
   ],
   "source": [
    "# **************FILTER ******************\n",
    "# Filter() is a built-in function in Python. The filter function can be applied to an iterable such as a list or a dictionary and create a new iterator. This new iterator can filter out certain specific elements based on the condition that you provide very efficiently.\n",
    "# filter means list ya tuples m values ko compare krta h means true ya false return karta h or true wali values ko print krta h\n",
    "l=[1,2,3,5,8,7,4]\n",
    "def filter_function(a):\n",
    "          return a>2\n",
    "myfilter = list(filter(filter_function,l))  # syntax filter(function,iterable (iterable means such as list and tuples))\n",
    "print(myfilter)\n"
   ]
  },
  {
   "cell_type": "code",
   "execution_count": 6,
   "metadata": {},
   "outputs": [
    {
     "name": "stdout",
     "output_type": "stream",
     "text": [
      "15\n"
     ]
    }
   ],
   "source": [
    "# ********************* REDUCE *************************\n",
    "# reduce() is a built-in function that applies a given function to the elements of an iterable, reducing them to a single value. The syntax for reduce() is as follows: functools. reduce(function, iterable[, initializer])\n",
    "# reduce means list ya tupes ki values ko reduce\\kam krna\n",
    "from functools import reduce\n",
    "numbers = [1,2,3,4,5]\n",
    "mysum = reduce(lambda x,y: x+y,numbers) # syntax reduce(function,iterable (iterable means such as list and tuples))\n",
    "print(mysum)"
   ]
  }
 ],
 "metadata": {
  "kernelspec": {
   "display_name": "Python 3",
   "language": "python",
   "name": "python3"
  },
  "language_info": {
   "codemirror_mode": {
    "name": "ipython",
    "version": 3
   },
   "file_extension": ".py",
   "mimetype": "text/x-python",
   "name": "python",
   "nbconvert_exporter": "python",
   "pygments_lexer": "ipython3",
   "version": "3.11.2"
  }
 },
 "nbformat": 4,
 "nbformat_minor": 2
}
