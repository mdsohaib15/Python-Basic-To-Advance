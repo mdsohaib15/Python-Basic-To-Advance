{
 "cells": [
  {
   "cell_type": "code",
   "execution_count": 10,
   "metadata": {},
   "outputs": [
    {
     "name": "stdout",
     "output_type": "stream",
     "text": [
      "Local variable:  300\n"
     ]
    }
   ],
   "source": [
    "# --------------Local Variable------------\n",
    "'''A variable created inside a function belongs to the local scope of that function, and can only be used inside that function.'''  \n",
    "def myfunc():\n",
    "  x = 300 # local variable\n",
    "  print(\"Local variable: \",x)\n",
    "\n",
    "myfunc()\n",
    "# print(x) -> show an error "
   ]
  },
  {
   "cell_type": "code",
   "execution_count": 9,
   "metadata": {},
   "outputs": [
    {
     "name": "stdout",
     "output_type": "stream",
     "text": [
      "Local variable: 200\n",
      "Global variable: 200\n"
     ]
    }
   ],
   "source": [
    "# --------------Global Variable------------\n",
    "'''Global variables are available from within any scope, global and local.'''\n",
    "x = 200 # global variable\n",
    "def myfunc():\n",
    "          \n",
    "          print(x)\n",
    "myfunc()\n",
    "print(\"Global variable:\",x)"
   ]
  },
  {
   "cell_type": "code",
   "execution_count": 8,
   "metadata": {},
   "outputs": [
    {
     "name": "stdout",
     "output_type": "stream",
     "text": [
      "Local variable:  100\n",
      "Global variable:  200\n"
     ]
    }
   ],
   "source": [
    "# if local variable is given in function so they take local variable\n",
    "x = 200 # global variable\n",
    "def myfunc():\n",
    "          x = 100 # local variable\n",
    "          print(\"Local variable:\",x)\n",
    "myfunc()\n",
    "print(\"Global variable:\",x)\n"
   ]
  },
  {
   "cell_type": "code",
   "execution_count": 12,
   "metadata": {},
   "outputs": [
    {
     "name": "stdout",
     "output_type": "stream",
     "text": [
      "Global variable:  50\n",
      "Local variable:  35\n",
      "Global variable:  35\n"
     ]
    }
   ],
   "source": [
    "x = 50 # Global variable: \n",
    "print(\"Global variable: \",x)\n",
    "def num():\n",
    "          global x # global keyword changes the global variable for all\n",
    "          x = 35\n",
    "          print(\"Local variable: \",x)\n",
    "\n",
    "num()\n",
    "print(\"Global variable: \",x)\n",
    "\n",
    "\n"
   ]
  }
 ],
 "metadata": {
  "kernelspec": {
   "display_name": "Python 3",
   "language": "python",
   "name": "python3"
  },
  "language_info": {
   "codemirror_mode": {
    "name": "ipython",
    "version": 3
   },
   "file_extension": ".py",
   "mimetype": "text/x-python",
   "name": "python",
   "nbconvert_exporter": "python",
   "pygments_lexer": "ipython3",
   "version": "3.11.2"
  }
 },
 "nbformat": 4,
 "nbformat_minor": 2
}
