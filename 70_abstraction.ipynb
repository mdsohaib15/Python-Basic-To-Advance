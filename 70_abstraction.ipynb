{
 "cells": [
  {
   "cell_type": "code",
   "execution_count": 2,
   "metadata": {},
   "outputs": [
    {
     "name": "stdout",
     "output_type": "stream",
     "text": [
      "I have three sides.\n",
      "I have five sides.\n",
      "I have six sides.\n"
     ]
    }
   ],
   "source": [
    "from abc import ABC, abstractmethod\n",
    "class Polygon(ABC):\n",
    "          @abstractmethod\n",
    "          def no_of_sides(self):\n",
    "                    pass\n",
    "class Triangle(Polygon):\n",
    "          def no_of_sides(self):\n",
    "                    print(\"I have three sides.\")\n",
    "class Pentagon(Polygon):\n",
    "          def no_of_sides(self):\n",
    "                    print(\"I have five sides.\")\n",
    "class Hexagon(Polygon):\n",
    "          def no_of_sides(self):\n",
    "                    print(\"I have six sides.\")        \n",
    "t = Triangle()  \n",
    "p = Pentagon()\n",
    "h = Hexagon()\n",
    "t.no_of_sides()\n",
    "p.no_of_sides()\n",
    "h.no_of_sides()"
   ]
  },
  {
   "cell_type": "code",
   "execution_count": 3,
   "metadata": {},
   "outputs": [
    {
     "name": "stdout",
     "output_type": "stream",
     "text": [
      "The mileage is 30kmph\n",
      "The mileage is 100kmph\n",
      "The mileage is 80kmph\n"
     ]
    }
   ],
   "source": [
    "from abc import ABC, abstractmethod\n",
    "class Car(ABC):\n",
    "          def mileage(self):\n",
    "                    pass\n",
    "class Tesla(Car):\n",
    "          def mileage(self):\n",
    "                    print(\"The mileage is 30kmph\")\n",
    "class Honda(Car):\n",
    "          def mileage(self):\n",
    "                    print(\"The mileage is 100kmph\")\n",
    "class Toyota(Car):\n",
    "          def mileage(self):\n",
    "                    print(\"The mileage is 80kmph\")\n",
    "c1 = Tesla()\n",
    "c2 = Honda()\n",
    "c3 = Toyota()\n",
    "c1.mileage()\n",
    "c2.mileage()\n",
    "c3.mileage()"
   ]
  },
  {
   "cell_type": "code",
   "execution_count": 1,
   "metadata": {},
   "outputs": [
    {
     "name": "stdout",
     "output_type": "stream",
     "text": [
      "Playing MP3 song: Imagine Dragons - Believer\n",
      "MP3 song paused.\n",
      "MP3 song stopped.\n",
      "Playing CD song: Pink Floyd - Wish You Were Here\n",
      "CD song paused.\n",
      "CD song stopped.\n"
     ]
    }
   ],
   "source": [
    "from abc import ABC, abstractmethod\n",
    "\n",
    "class MusicPlayer(ABC):\n",
    "    def __init__(self, name):\n",
    "        self.name = name\n",
    "        self.current_song = None\n",
    "    \n",
    "    @abstractmethod\n",
    "    def play(self, song):\n",
    "        pass\n",
    "    \n",
    "    @abstractmethod\n",
    "    def pause(self):\n",
    "        pass\n",
    "    \n",
    "    @abstractmethod\n",
    "    def stop(self):\n",
    "        pass\n",
    "\n",
    "class MP3Player(MusicPlayer):\n",
    "    def play(self, song):\n",
    "        self.current_song = song\n",
    "        print(f\"Playing MP3 song: {self.current_song}\")\n",
    "    \n",
    "    def pause(self):\n",
    "        print(\"MP3 song paused.\")\n",
    "    \n",
    "    def stop(self):\n",
    "        print(\"MP3 song stopped.\")\n",
    "\n",
    "class CDPlayer(MusicPlayer):\n",
    "    def play(self, song):\n",
    "        self.current_song = song\n",
    "        print(f\"Playing CD song: {self.current_song}\")\n",
    "    \n",
    "    def pause(self):\n",
    "        print(\"CD song paused.\")\n",
    "    \n",
    "    def stop(self):\n",
    "        print(\"CD song stopped.\")\n",
    "\n",
    "# Using the MusicPlayer interface\n",
    "mp3_player = MP3Player(\"My MP3 Player\")\n",
    "mp3_player.play(\"Imagine Dragons - Believer\")\n",
    "mp3_player.pause()\n",
    "mp3_player.stop()\n",
    "\n",
    "cd_player = CDPlayer(\"My CD Player\")\n",
    "cd_player.play(\"Pink Floyd - Wish You Were Here\")\n",
    "cd_player.pause()\n",
    "cd_player.stop()\n"
   ]
  },
  {
   "cell_type": "code",
   "execution_count": null,
   "metadata": {},
   "outputs": [],
   "source": [
    "from abc import ABC, abstractmethod\n",
    "\n",
    "class Food(ABC):\n",
    "    def __init__(self, name):\n",
    "        self.name = name\n",
    "    \n",
    "    @abstractmethod\n",
    "    def cook(self):\n",
    "        pass\n",
    "\n",
    "class Pizza(Food):\n",
    "    def cook(self):\n",
    "        return f\"Cooking {self.name}: Spread sauce, add toppings, bake in oven.\"\n",
    "\n",
    "class Salad(Food):\n",
    "    def cook(self):\n",
    "        return f\"Preparing {self.name}: Chop vegetables, mix dressing, toss salad.\"\n",
    "\n",
    "class Pasta(Food):\n",
    "    def cook(self):\n",
    "        return f\"Making {self.name}: Boil pasta, prepare sauce, mix together.\"\n",
    "\n",
    "# Using polymorphism\n",
    "foods = [\n",
    "    Pizza(\"Margherita Pizza\"),\n",
    "    Salad(\"Caesar Salad\"),\n",
    "    Pasta(\"Spaghetti Carbonara\")\n",
    "]\n",
    "\n",
    "for food in foods:\n",
    "    print(food.cook())\n"
   ]
  }
 ],
 "metadata": {
  "kernelspec": {
   "display_name": "Python 3",
   "language": "python",
   "name": "python3"
  },
  "language_info": {
   "codemirror_mode": {
    "name": "ipython",
    "version": 3
   },
   "file_extension": ".py",
   "mimetype": "text/x-python",
   "name": "python",
   "nbconvert_exporter": "python",
   "pygments_lexer": "ipython3",
   "version": "3.11.2"
  }
 },
 "nbformat": 4,
 "nbformat_minor": 2
}
