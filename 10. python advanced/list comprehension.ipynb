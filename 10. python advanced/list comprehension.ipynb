{
 "cells": [
  {
   "cell_type": "markdown",
   "id": "4f4e855c-0657-4294-9c15-bd2e999778fc",
   "metadata": {},
   "source": [
    "### using without  list comprehension"
   ]
  },
  {
   "cell_type": "code",
   "execution_count": 2,
   "id": "3385a81c-350c-449b-a628-78194ab1e23d",
   "metadata": {},
   "outputs": [
    {
     "name": "stdout",
     "output_type": "stream",
     "text": [
      "[22, 32, 42, 52, 62, 72]\n"
     ]
    }
   ],
   "source": [
    "marks = [20,30,40,50,60,70]\n",
    "new_marks=[]\n",
    "for x in marks:\n",
    "    new_marks.append(x+2)\n",
    "print(new_marks)"
   ]
  },
  {
   "cell_type": "markdown",
   "id": "0fc71bc1-fd16-4fcb-ad3a-5dde3936881d",
   "metadata": {},
   "source": [
    "### using list comprehension"
   ]
  },
  {
   "cell_type": "code",
   "execution_count": 3,
   "id": "abea92cd-124b-41c4-b132-f9892aa43323",
   "metadata": {},
   "outputs": [
    {
     "name": "stdout",
     "output_type": "stream",
     "text": [
      "[22, 32, 42, 52, 62, 72]\n"
     ]
    }
   ],
   "source": [
    "marks = [20,30,40,50,60,70]\n",
    "new_marks = [x+2 for x in marks]\n",
    "print(new_marks)"
   ]
  },
  {
   "cell_type": "markdown",
   "id": "14b15b81-ce53-4616-b976-ff8ff9f31b7d",
   "metadata": {},
   "source": [
    "### using without  list comprehension"
   ]
  },
  {
   "cell_type": "code",
   "execution_count": 7,
   "id": "2a7c78fb-858d-42dc-b09d-a1f699c9c609",
   "metadata": {},
   "outputs": [
    {
     "name": "stdout",
     "output_type": "stream",
     "text": [
      "[0, 4, 16, 36, 64]\n"
     ]
    }
   ],
   "source": [
    "cubes=[]\n",
    "for x in range(10):\n",
    "    if x %2 == 0:\n",
    "        cubes.append(x ** 2)\n",
    "print(cubes)"
   ]
  },
  {
   "cell_type": "markdown",
   "id": "d9bbc19f-6a79-48d0-9db2-a6d1caa1b4fa",
   "metadata": {},
   "source": [
    "### using list comprehension"
   ]
  },
  {
   "cell_type": "code",
   "execution_count": 8,
   "id": "b4314786-254c-4ea5-86eb-e0395666df35",
   "metadata": {},
   "outputs": [
    {
     "name": "stdout",
     "output_type": "stream",
     "text": [
      "[0, 4, 16, 36, 64]\n"
     ]
    }
   ],
   "source": [
    "easy = [(x ** 2) for x in range(10) if x %2 == 0]\n",
    "print(easy)"
   ]
  },
  {
   "cell_type": "code",
   "execution_count": null,
   "id": "64833b49-cc22-4548-9dee-f7d54d68ce7e",
   "metadata": {},
   "outputs": [],
   "source": []
  }
 ],
 "metadata": {
  "kernelspec": {
   "display_name": "Python 3 (ipykernel)",
   "language": "python",
   "name": "python3"
  },
  "language_info": {
   "codemirror_mode": {
    "name": "ipython",
    "version": 3
   },
   "file_extension": ".py",
   "mimetype": "text/x-python",
   "name": "python",
   "nbconvert_exporter": "python",
   "pygments_lexer": "ipython3",
   "version": "3.12.4"
  }
 },
 "nbformat": 4,
 "nbformat_minor": 5
}
