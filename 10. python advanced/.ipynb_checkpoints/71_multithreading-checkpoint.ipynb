{
 "cells": [
  {
   "cell_type": "code",
   "execution_count": 1,
   "metadata": {},
   "outputs": [
    {
     "name": "stdout",
     "output_type": "stream",
     "text": [
      "sleeping for 5 seconds\n",
      "sleeping for 4 seconds\n",
      "sleeping for 3 seconds\n"
     ]
    }
   ],
   "source": [
    "import time \n",
    "# indicate some task being done \n",
    "def func(seconds):\n",
    "          print(f\"sleeping for {seconds} seconds\")\n",
    "          time.sleep(seconds)\n",
    "\n",
    "\n",
    "func(5) \n",
    "func(4)\n",
    "func(3)\n",
    "# in this function is waiting for execute means if one function is execute/call other functions is not call \n",
    "# we wanted for "
   ]
  }
 ],
 "metadata": {
  "kernelspec": {
   "display_name": "Python 3",
   "language": "python",
   "name": "python3"
  },
  "language_info": {
   "codemirror_mode": {
    "name": "ipython",
    "version": 3
   },
   "file_extension": ".py",
   "mimetype": "text/x-python",
   "name": "python",
   "nbconvert_exporter": "python",
   "pygments_lexer": "ipython3",
   "version": "3.11.2"
  }
 },
 "nbformat": 4,
 "nbformat_minor": 2
}
