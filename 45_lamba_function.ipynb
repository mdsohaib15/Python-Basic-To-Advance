{
 "cells": [
  {
   "cell_type": "code",
   "execution_count": 2,
   "metadata": {},
   "outputs": [
    {
     "name": "stdout",
     "output_type": "stream",
     "text": [
      "-----------Basic Calculator------------ \n",
      "\n",
      "the Sum of 2.0 and 3.0 is: 5.0\n"
     ]
    }
   ],
   "source": [
    "def BasicCalculator():\n",
    "          \n",
    "          print(\"-----------Basic Calculator------------ \\n\")\n",
    "          choice = input(\"1.Addition(+) \\n2.Subtraction(-) \\n3.Multiplication(*) \\n4.Division(/) \\n5.Exponential(^) \\nChoice any one of following options: \")\n",
    "          if choice == \"+\":\n",
    "                    a = float(input(\"Enter a: \"))\n",
    "                    b = float(input(\"Enter b: \"))\n",
    "                    sum = lambda a,b: a+b\n",
    "                    print(f\"the Sum of {a} and {b} is: {sum(a,b)}\")\n",
    "          elif choice == \"-\":\n",
    "                    c = float(input(\"Enter a: \"))\n",
    "                    d = float(input(\"Enter b: \"))\n",
    "                    sub = lambda c,d: c-d\n",
    "                    print(f\"The Subtraction of {c} and {d} is: {sub(c,d)}\")\n",
    "          elif choice == \"*\":\n",
    "                    a = float(input(\"Enter a: \"))\n",
    "                    b = float(input(\"Enter b: \"))\n",
    "                    mult = lambda a,b: a*b\n",
    "                    print(f\"The Multiplication of {a} and {b} is: {mult(a,b)}\")\n",
    "          elif choice == \"/\":\n",
    "                    a = float(input(\"Enter a: \"))\n",
    "                    b = float(input(\"Enter b: \"))\n",
    "                    div = lambda a,b: a/b\n",
    "                    print(f\"The Division of {a} and {b} is: {div(a,b)}\")\n",
    "          elif choice == \"^\":\n",
    "                    b = float(input(\"Choose power : \"))\n",
    "                    a = float(input(\"Enter a number: \"))\n",
    "                    exp = lambda a,b: a**b\n",
    "                    print(f\"The Value of {a} ^ {b} is : {exp(a,b)}\") \n",
    "BasicCalculator()"
   ]
  },
  {
   "cell_type": "code",
   "execution_count": null,
   "metadata": {},
   "outputs": [],
   "source": []
  }
 ],
 "metadata": {
  "kernelspec": {
   "display_name": "Python 3",
   "language": "python",
   "name": "python3"
  },
  "language_info": {
   "codemirror_mode": {
    "name": "ipython",
    "version": 3
   },
   "file_extension": ".py",
   "mimetype": "text/x-python",
   "name": "python",
   "nbconvert_exporter": "python",
   "pygments_lexer": "ipython3",
   "version": "3.11.2"
  }
 },
 "nbformat": 4,
 "nbformat_minor": 2
}
