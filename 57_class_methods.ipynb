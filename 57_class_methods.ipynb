{
 "cells": [
  {
   "cell_type": "code",
   "execution_count": 8,
   "metadata": {},
   "outputs": [
    {
     "name": "stdout",
     "output_type": "stream",
     "text": [
      "The employee name is joe and company name is apple\n",
      "The employee name is joe and company name is meta\n",
      "The employee name is leo and company name is meta\n"
     ]
    }
   ],
   "source": [
    "# A class method is a method that is bound to the class and not the object of the class.\n",
    "\n",
    "class Employee:\n",
    "          compamy_name = \"apple\"\n",
    "          def show(self):\n",
    "                    print(f\"The employee name is {self.name} and company name is {self.compamy_name}\")\n",
    "\n",
    "          # if we try to change company name for all employee we use class method\n",
    "          @classmethod\n",
    "          def changeCompany(cls, newCompany):\n",
    "                    cls.compamy_name = newCompany\n",
    "e1 = Employee()\n",
    "e1.name = \"joe\"\n",
    "e1.show()\n",
    "\n",
    "# changing compny \n",
    "e1.changeCompany(\"meta\")\n",
    "e1.show()\n",
    "\n",
    "# now company name is change for all employees\n",
    "e2 = Employee()\n",
    "e2.name = \"leo\"\n",
    "e2.show()\n"
   ]
  }
 ],
 "metadata": {
  "kernelspec": {
   "display_name": "Python 3",
   "language": "python",
   "name": "python3"
  },
  "language_info": {
   "codemirror_mode": {
    "name": "ipython",
    "version": 3
   },
   "file_extension": ".py",
   "mimetype": "text/x-python",
   "name": "python",
   "nbconvert_exporter": "python",
   "pygments_lexer": "ipython3",
   "version": "3.11.2"
  }
 },
 "nbformat": 4,
 "nbformat_minor": 2
}
